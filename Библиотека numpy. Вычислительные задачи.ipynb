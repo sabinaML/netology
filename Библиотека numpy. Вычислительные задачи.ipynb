{
  "nbformat": 4,
  "nbformat_minor": 0,
  "metadata": {
    "colab": {
      "provenance": [],
      "mount_file_id": "1aDjDBmDvh2NuLpJEn7bxdpAvXOSZ_l1u",
      "authorship_tag": "ABX9TyMUkNjurbkrYV6bd5tb0nHy",
      "include_colab_link": true
    },
    "kernelspec": {
      "name": "python3",
      "display_name": "Python 3"
    },
    "language_info": {
      "name": "python"
    }
  },
  "cells": [
    {
      "cell_type": "markdown",
      "metadata": {
        "id": "view-in-github",
        "colab_type": "text"
      },
      "source": [
        "<a href=\"https://colab.research.google.com/github/sabinaML/python_basic/blob/main/%D0%91%D0%B8%D0%B1%D0%BB%D0%B8%D0%BE%D1%82%D0%B5%D0%BA%D0%B0%20numpy.%20%D0%92%D1%8B%D1%87%D0%B8%D1%81%D0%BB%D0%B8%D1%82%D0%B5%D0%BB%D1%8C%D0%BD%D1%8B%D0%B5%20%D0%B7%D0%B0%D0%B4%D0%B0%D1%87%D0%B8.ipynb\" target=\"_parent\"><img src=\"https://colab.research.google.com/assets/colab-badge.svg\" alt=\"Open In Colab\"/></a>"
      ]
    },
    {
      "cell_type": "markdown",
      "source": [
        "# Задание 1\n",
        "Скачайте с сайта grouplens.org...movielens/ датасет любого размера. Определите, какому фильму было выставлено больше всего оценок 5.0.\n"
      ],
      "metadata": {
        "id": "QIG827dlvP3i"
      }
    },
    {
      "cell_type": "code",
      "source": [
        "import pandas as pd\n",
        "import numpy as np"
      ],
      "metadata": {
        "id": "ltKrIJCGvQtX"
      },
      "execution_count": null,
      "outputs": []
    },
    {
      "cell_type": "markdown",
      "source": [
        "Задание 1\n",
        "Создайте numpy array с элементами от числа N до 0 (например, для N = 10 это будет array([9, 8, 7, 6, 5, 4, 3, 2, 1, 0]))."
      ],
      "metadata": {
        "id": "wLM-odJtCVEA"
      }
    },
    {
      "cell_type": "code",
      "source": [
        "n=10"
      ],
      "metadata": {
        "id": "YCBMqmivCUkY"
      },
      "execution_count": null,
      "outputs": []
    },
    {
      "cell_type": "code",
      "source": [
        "np.arange(n-1,-1, -1)"
      ],
      "metadata": {
        "id": "b1FYx8PSx3Pe",
        "colab": {
          "base_uri": "https://localhost:8080/"
        },
        "outputId": "9060622f-ccc1-4cf2-c5e6-1a017f6a58ce"
      },
      "execution_count": null,
      "outputs": [
        {
          "output_type": "execute_result",
          "data": {
            "text/plain": [
              "array([9, 8, 7, 6, 5, 4, 3, 2, 1, 0])"
            ]
          },
          "metadata": {},
          "execution_count": 14
        }
      ]
    },
    {
      "cell_type": "code",
      "source": [
        "np.arange(0,n)[::-1]"
      ],
      "metadata": {
        "id": "C46wkDWrxujv",
        "colab": {
          "base_uri": "https://localhost:8080/"
        },
        "outputId": "f35d97b4-77f7-4bb2-d874-e60f1610930a"
      },
      "execution_count": null,
      "outputs": [
        {
          "output_type": "execute_result",
          "data": {
            "text/plain": [
              "array([9, 8, 7, 6, 5, 4, 3, 2, 1, 0])"
            ]
          },
          "metadata": {},
          "execution_count": 18
        }
      ]
    },
    {
      "cell_type": "markdown",
      "source": [
        "Задание 2\n",
        "Создайте диагональную матрицу с элементами от N до 0. Посчитайте сумму ее значений на диагонали."
      ],
      "metadata": {
        "id": "8EOmwQByELRv"
      }
    },
    {
      "cell_type": "code",
      "source": [
        "n=10"
      ],
      "metadata": {
        "id": "fRrLARDuEO5m"
      },
      "execution_count": null,
      "outputs": []
    },
    {
      "cell_type": "code",
      "source": [
        "np.diag(np.arange(n-1,-1, -1))"
      ],
      "metadata": {
        "colab": {
          "base_uri": "https://localhost:8080/"
        },
        "id": "bSzOK2vGEp_-",
        "outputId": "fb457c71-c831-460b-93bd-610504ee6763"
      },
      "execution_count": null,
      "outputs": [
        {
          "output_type": "execute_result",
          "data": {
            "text/plain": [
              "array([[9, 0, 0, 0, 0, 0, 0, 0, 0, 0],\n",
              "       [0, 8, 0, 0, 0, 0, 0, 0, 0, 0],\n",
              "       [0, 0, 7, 0, 0, 0, 0, 0, 0, 0],\n",
              "       [0, 0, 0, 6, 0, 0, 0, 0, 0, 0],\n",
              "       [0, 0, 0, 0, 5, 0, 0, 0, 0, 0],\n",
              "       [0, 0, 0, 0, 0, 4, 0, 0, 0, 0],\n",
              "       [0, 0, 0, 0, 0, 0, 3, 0, 0, 0],\n",
              "       [0, 0, 0, 0, 0, 0, 0, 2, 0, 0],\n",
              "       [0, 0, 0, 0, 0, 0, 0, 0, 1, 0],\n",
              "       [0, 0, 0, 0, 0, 0, 0, 0, 0, 0]])"
            ]
          },
          "metadata": {},
          "execution_count": 21
        }
      ]
    },
    {
      "cell_type": "markdown",
      "source": [
        "Задание 3\n",
        "Решите систему уравнений:\n",
        "4x + 2y + z = 4\n",
        "x + 3y = 12\n",
        "5y + 4z = -3"
      ],
      "metadata": {
        "id": "e6sNvRLTFDlG"
      }
    },
    {
      "cell_type": "code",
      "source": [
        "a=np.array([[4, 2, 1], [1, 3, 0],[0, 5, 4]])\n",
        "b=np.array([4, 12, -3])"
      ],
      "metadata": {
        "id": "pD1FdALsFH3d"
      },
      "execution_count": null,
      "outputs": []
    },
    {
      "cell_type": "code",
      "source": [
        "from numpy import linalg"
      ],
      "metadata": {
        "id": "aOJB-OM6GAHu"
      },
      "execution_count": null,
      "outputs": []
    },
    {
      "cell_type": "code",
      "source": [
        "linalg.solve(a,b)"
      ],
      "metadata": {
        "colab": {
          "base_uri": "https://localhost:8080/"
        },
        "id": "ph6pdOIHGDtF",
        "outputId": "21cefc40-12eb-43ff-f9de-131f608e0647"
      },
      "execution_count": null,
      "outputs": [
        {
          "output_type": "execute_result",
          "data": {
            "text/plain": [
              "array([ 0.46666667,  3.84444444, -5.55555556])"
            ]
          },
          "metadata": {},
          "execution_count": 27
        }
      ]
    },
    {
      "cell_type": "markdown",
      "source": [
        "Задание 4\n",
        "Косинусное сходство"
      ],
      "metadata": {
        "id": "JgcUz2JQGkuL"
      }
    },
    {
      "cell_type": "code",
      "source": [
        "users_stats = np.array(\n",
        "    [\n",
        "        [2, 1, 0, 0, 0, 0],\n",
        "        [1, 1, 2, 1, 0, 0],\n",
        "        [2, 0, 1, 0, 0, 0],\n",
        "        [1, 1, 2, 1, 0, 1],\n",
        "        [0, 0, 1, 2, 0, 0],\n",
        "        [0, 0, 0, 0, 0, 5],\n",
        "        [1, 0, 0, 0, 0, 0],\n",
        "        [0, 1, 1, 0, 0, 0],\n",
        "        [0, 0, 0, 1, 1, 3],\n",
        "        [1, 0, 0, 2, 1, 4]\n",
        "    ], \n",
        "    np.int32\n",
        ")"
      ],
      "metadata": {
        "id": "r38hU8BxGlwM"
      },
      "execution_count": null,
      "outputs": []
    },
    {
      "cell_type": "code",
      "source": [
        "next_user_stats = np.array([0, 1, 2, 0, 0, 0])"
      ],
      "metadata": {
        "id": "wPXBXOwnIanD"
      },
      "execution_count": null,
      "outputs": []
    },
    {
      "cell_type": "code",
      "source": [
        "users_stats[1]"
      ],
      "metadata": {
        "colab": {
          "base_uri": "https://localhost:8080/"
        },
        "id": "NQ7e6DCLId57",
        "outputId": "5f796734-b9ca-4d31-dbb2-e36b22cf9587"
      },
      "execution_count": null,
      "outputs": [
        {
          "output_type": "execute_result",
          "data": {
            "text/plain": [
              "array([1, 1, 2, 1, 0, 0], dtype=int32)"
            ]
          },
          "metadata": {},
          "execution_count": 30
        }
      ]
    },
    {
      "cell_type": "code",
      "source": [
        "def cosine( a, b ):\n",
        "    \"\"\"\n",
        "    Подсчет косинуса угла между векторами a, b по их координатам\n",
        "    \"\"\"\n",
        "    \n",
        "    # длины векторов\n",
        "    aLength = np.linalg.norm( a )\n",
        "    bLength = np.linalg.norm( b )\n",
        "    \n",
        "    return (np.dot( a, b ) / ( aLength * bLength )) "
      ],
      "metadata": {
        "id": "Iysg4avyJZcS"
      },
      "execution_count": null,
      "outputs": []
    },
    {
      "cell_type": "code",
      "source": [
        "max=0\n",
        "n=0\n",
        "for i in range(len(users_stats)):\n",
        "  c=cosine(users_stats[i], next_user_stats)\n",
        "  print(c)\n",
        "  if c>max:\n",
        "    max=c\n",
        "    n=i\n",
        "print('Самый похожий пользователь с индексом', n)"
      ],
      "metadata": {
        "colab": {
          "base_uri": "https://localhost:8080/"
        },
        "id": "AMVl5fQLJmWC",
        "outputId": "4279170c-24c9-4058-a794-e0af6f94a35a"
      },
      "execution_count": null,
      "outputs": [
        {
          "output_type": "stream",
          "name": "stdout",
          "text": [
            "0.19999999999999996\n",
            "0.8451542547285165\n",
            "0.3999999999999999\n",
            "0.7905694150420948\n",
            "0.3999999999999999\n",
            "0.0\n",
            "0.0\n",
            "0.9486832980505138\n",
            "0.0\n",
            "0.0\n",
            "Самый похожий пользователь с индексом 7\n"
          ]
        }
      ]
    }
  ]
}