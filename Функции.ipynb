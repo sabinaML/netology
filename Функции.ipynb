{
  "nbformat": 4,
  "nbformat_minor": 0,
  "metadata": {
    "colab": {
      "provenance": [],
      "authorship_tag": "ABX9TyONgAVj8+OGXCoXxL1yr355",
      "include_colab_link": true
    },
    "kernelspec": {
      "name": "python3",
      "display_name": "Python 3"
    },
    "language_info": {
      "name": "python"
    }
  },
  "cells": [
    {
      "cell_type": "markdown",
      "metadata": {
        "id": "view-in-github",
        "colab_type": "text"
      },
      "source": [
        "<a href=\"https://colab.research.google.com/github/sabinaML/python_basic/blob/main/%D0%A4%D1%83%D0%BD%D0%BA%D1%86%D0%B8%D0%B8.ipynb\" target=\"_parent\"><img src=\"https://colab.research.google.com/assets/colab-badge.svg\" alt=\"Open In Colab\"/></a>"
      ]
    },
    {
      "cell_type": "code",
      "source": [
        "import time\n"
      ],
      "metadata": {
        "id": "9_MxAGOsTEOx"
      },
      "execution_count": null,
      "outputs": []
    },
    {
      "cell_type": "code",
      "source": [
        "documents = [ {'type': 'passport', 'number': '2207 876234', 'name': 'Василий Гупкин'}, {'type': 'invoice', 'number': '11-2', 'name': 'Геннадий Покемонов'}, \n",
        "             {'type': 'insurance', 'number': '10006', 'name': 'Аристарх Павлов'} ] "
      ],
      "metadata": {
        "id": "41nHvtWAGBjR"
      },
      "execution_count": null,
      "outputs": []
    },
    {
      "cell_type": "code",
      "source": [
        "directories = { '1': ['2207 876234', '11-2'], '2': ['10006'], '3': [] } "
      ],
      "metadata": {
        "id": "eRA3YkBBflas"
      },
      "execution_count": null,
      "outputs": []
    },
    {
      "cell_type": "code",
      "source": [
        "#Пользователь по команде “p” может узнать владельца документа по его номеру\n",
        "def p():\n",
        "  doc_num =input('Введите номер документа: ')\n",
        "  k=0\n",
        "  for i in documents:\n",
        "    if i['number'] == doc_num:\n",
        "      print ('Владелец документа: ', i['name'])\n",
        "      k=k+1\n",
        "  if k==0:\n",
        "    print ('Документ не найден в базе')\n"
      ],
      "metadata": {
        "id": "caiJEsGnHU8G"
      },
      "execution_count": null,
      "outputs": []
    },
    {
      "cell_type": "code",
      "source": [
        "#Пользователь по команде “s” может по номеру документа узнать на какой полке он хранится\n",
        "def s():\n",
        "  doc_num =input('Введите номер документа: ')\n",
        "  k=0\n",
        "  for i in documents:\n",
        "    if i['number'] == doc_num:\n",
        "      for key, value in directories.items():\n",
        "        if i['number'] in value:\n",
        "          print('Документ хранится на полке: ', key)\n",
        "          k=k+1\n",
        "  if k==0:\n",
        "    print ('Документ не найден в базе')\n",
        "\n"
      ],
      "metadata": {
        "id": "OTGxmblrQI5h"
      },
      "execution_count": null,
      "outputs": []
    },
    {
      "cell_type": "code",
      "source": [
        "#Пользователь по команде “l” может увидеть полную информацию по всем документам\n",
        "def l():\n",
        "  for i in documents:\n",
        "    for key, value in directories.items():\n",
        "      if i['number'] in value:\n",
        "        print('№', i['number'], ', тип: ', i['type'], ', владелец: ', i['name'], ', полка хранения: ', key)"
      ],
      "metadata": {
        "id": "A-YMPR8-T850"
      },
      "execution_count": null,
      "outputs": []
    },
    {
      "cell_type": "code",
      "source": [
        "#Пользователь по команде “ads” может добавить новую полку\n",
        "def ads():\n",
        "  item_num =input('Введите номер полки: ')\n",
        "  k=len(directories)\n",
        "  directories.setdefault(item_num, [])\n",
        "  if len(directories)>k:\n",
        "    print('Полка добавлена. Текущий перечень полок:',  *list(directories.keys()))\n",
        "  else:\n",
        "    print('Такая полка уже существует. Текущий перечень полок: ',  *list(directories.keys()))"
      ],
      "metadata": {
        "id": "dAm3W1v7XK6k"
      },
      "execution_count": null,
      "outputs": []
    },
    {
      "cell_type": "code",
      "source": [
        "#Пользователь по команде “ds” может удалить существующую полку из данных (только если она пустая)\n",
        "def ds():\n",
        "  item_num =input('Введите номер полки: ')\n",
        "  if item_num in directories.keys():\n",
        "    if directories[item_num] is not None and directories[item_num]!=[]:\n",
        "      print('На полке есть документ, удалите их перед удалением полки. Текущий перечень полок: ',  *list(directories.keys()))\n",
        "    if directories[item_num] is None or directories[item_num] == []:\n",
        "      directories.pop(item_num)\n",
        "      print('Полка удалена. Текущий перечень полок: ', *list(directories.keys()))\n",
        "  else:\n",
        "    print('Такой полки не существует. Текущий перечень полок: ',  *list(directories.keys()))"
      ],
      "metadata": {
        "id": "UrD0ROSwaVOE"
      },
      "execution_count": null,
      "outputs": []
    },
    {
      "cell_type": "code",
      "source": [
        "#Пользователь по команде “ad” может добавить новый документ в данные\n",
        "def ad():\n",
        "  doc_num =input('Введите номер документа: ')\n",
        "  doctype =input('Введите тип документа: ')\n",
        "  name =input('Введите владельца документа: ')\n",
        "  item_num =input('Введите полку для хранения: ')\n",
        "  documents.append({'type': doctype, 'number': doc_num, 'name': name})\n",
        "  if item_num in directories.keys():\n",
        "    directories[item_num].append(doc_num)\n",
        "    print('Документ добавлен. Текущий список документов:')\n",
        "  else:\n",
        "    print('Такой полки не существует. Добавьте полку командой ads. Текущий список документов:')\n",
        "  l()"
      ],
      "metadata": {
        "id": "RwAWrWb3UyG-"
      },
      "execution_count": null,
      "outputs": []
    },
    {
      "cell_type": "code",
      "source": [
        "#Пользователь по команде “d” может удалить документ из данных\n",
        "def d():\n",
        "  doc_num =input('Введите номер документа: ')\n",
        "  x=0\n",
        "  for i in range (len(documents)):\n",
        "    if documents[i]['number'] == doc_num:\n",
        "      documents.pop(i) \n",
        "      for key, value in directories.items():\n",
        "        if doc_num in value:\n",
        "          value.remove(doc_num)\n",
        "      x=x+1\n",
        "  if x >0:\n",
        "    print('Документ удален. Текущий список документов:')\n",
        "  else:\n",
        "    print('Документ не найден в базе. Текущий список документов:')\n",
        "  l()"
      ],
      "metadata": {
        "id": "RGw1oq7MdRlI"
      },
      "execution_count": null,
      "outputs": []
    },
    {
      "cell_type": "code",
      "source": [
        "#Пользователь по команде “m” может переместить документ с полки на полку\n",
        "def m():\n",
        "  doc_num =input('Введите номер документа: ')\n",
        "  item_num =input('Введите номер полки: ')\n",
        "  y=[]\n",
        "  if item_num not in directories.keys():\n",
        "    print('Такой полки не существует. Текущий перечень полок: ', *list(directories.keys()))\n",
        "  elif doc_num not in [j for i in list(directories.values())   for j in i]:\n",
        "      print('Документ не найден в базе. Текущий список документов:')\n",
        "      l() \n",
        "  else:\n",
        "    \n",
        "    for key, value in directories.items():\n",
        "      if doc_num in value:\n",
        "        value.remove(doc_num)\n",
        "      if item_num==key:\n",
        "        value.append(doc_num)\n",
        "    print('Документ перемещен. Текущий список документов:')\n",
        "    l()\n"
      ],
      "metadata": {
        "id": "Y8daboQdiWYS"
      },
      "execution_count": null,
      "outputs": []
    },
    {
      "cell_type": "code",
      "source": [
        "#пользовательский ввод обрабатывается в цикле while до тех пор, пока пользователь явно не завершит программу (вводом команды “q”)\n",
        "print('p - Пользователь по команде “p” может узнать владельца документа по его номеру',\n",
        "      's - Пользователь по команде “s” может по номеру документа узнать на какой полке он хранится',\n",
        "      'l - Пользователь по команде “l” может увидеть полную информацию по всем документам',\n",
        "      'ads - Пользователь по команде “ads” может добавить новую полку' ,\n",
        "      'ds - Пользователь по команде “ds” может удалить существующую полку из данных (только если она пустая)',\n",
        "      'ad - Пользователь по команде “ad” может добавить новый документ в данные',\n",
        "      'd - Пользователь по команде “d” может удалить документ из данных',\n",
        "      'm - Пользователь по команде “m” может переместить документ с полки на полку', sep = '\\n', end = '\\n\\n')\n",
        "comand = input('Введите команду ')\n",
        "\n",
        "while comand!='q':\n",
        "  if comand=='p': \n",
        "    p()\n",
        "  if comand=='s': \n",
        "    s()    \n",
        "  if comand=='l': \n",
        "    l() \n",
        "  if comand=='ads': \n",
        "    ads() \n",
        "  if comand=='ds': \n",
        "    ds() \n",
        "  if comand=='ad': \n",
        "    ad() \n",
        "  if comand=='d': \n",
        "    d() \n",
        "  if comand=='m': \n",
        "    m()\n",
        "  print('\\n')  \n",
        "  time.sleep(1)\n",
        "  comand = input('Введите команду ')"
      ],
      "metadata": {
        "colab": {
          "base_uri": "https://localhost:8080/"
        },
        "id": "CA40Sr_oiGNb",
        "outputId": "80060883-c4f7-4f25-cfd5-79df4e0fd37e"
      },
      "execution_count": null,
      "outputs": [
        {
          "name": "stdout",
          "output_type": "stream",
          "text": [
            "p - Пользователь по команде “p” может узнать владельца документа по его номеру\n",
            "s - Пользователь по команде “s” может по номеру документа узнать на какой полке он хранится\n",
            "l - Пользователь по команде “l” может увидеть полную информацию по всем документам\n",
            "ads - Пользователь по команде “ads” может добавить новую полку\n",
            "ds - Пользователь по команде “ds” может удалить существующую полку из данных (только если она пустая)\n",
            "ad - Пользователь по команде “ad” может добавить новый документ в данные\n",
            "d - Пользователь по команде “d” может удалить документ из данных\n",
            "m - Пользователь по команде “m” может переместить документ с полки на полку\n",
            "\n",
            "Введите команду p\n",
            "Введите номер документа: 11-2\n",
            "Владелец документа:  Геннадий Покемонов\n",
            "\n",
            "\n",
            "Введите команду s\n",
            "Введите номер документа: 10006\n",
            "Документ хранится на полке:  2\n",
            "\n",
            "\n",
            "Введите команду l\n",
            "№ 2207 876234 , тип:  passport , владелец:  Василий Гупкин , полка хранения:  1\n",
            "№ 11-2 , тип:  invoice , владелец:  Геннадий Покемонов , полка хранения:  1\n",
            "№ 10006 , тип:  insurance , владелец:  Аристарх Павлов , полка хранения:  2\n",
            "\n",
            "\n",
            "Введите команду ads\n",
            "Введите номер полки: 7\n",
            "Полка добавлена. Текущий перечень полок: 1 2 3 7\n",
            "\n",
            "\n",
            "Введите команду ds\n",
            "Введите номер полки: 7\n",
            "Полка удалена. Текущий перечень полок:  1 2 3\n",
            "\n",
            "\n",
            "Введите команду ad\n",
            "Введите номер документа: 123\n",
            "Введите тип документа: passport\n",
            "Введите владельца документа: Ivanov\n",
            "Введите полку для хранения: 3\n",
            "Документ добавлен. Текущий список документов:\n",
            "№ 2207 876234 , тип:  passport , владелец:  Василий Гупкин , полка хранения:  1\n",
            "№ 11-2 , тип:  invoice , владелец:  Геннадий Покемонов , полка хранения:  1\n",
            "№ 10006 , тип:  insurance , владелец:  Аристарх Павлов , полка хранения:  2\n",
            "№ 123 , тип:  passport , владелец:  Ivanov , полка хранения:  3\n",
            "\n",
            "\n",
            "Введите команду d\n",
            "Введите номер документа: 123\n",
            "Документ удален. Текущий список документов:\n",
            "№ 2207 876234 , тип:  passport , владелец:  Василий Гупкин , полка хранения:  1\n",
            "№ 11-2 , тип:  invoice , владелец:  Геннадий Покемонов , полка хранения:  1\n",
            "№ 10006 , тип:  insurance , владелец:  Аристарх Павлов , полка хранения:  2\n",
            "\n",
            "\n",
            "Введите команду m\n",
            "Введите номер документа: 11-2\n",
            "Введите номер полки: 3\n",
            "Документ перемещен. Текущий список документов:\n",
            "№ 2207 876234 , тип:  passport , владелец:  Василий Гупкин , полка хранения:  1\n",
            "№ 11-2 , тип:  invoice , владелец:  Геннадий Покемонов , полка хранения:  3\n",
            "№ 10006 , тип:  insurance , владелец:  Аристарх Павлов , полка хранения:  2\n",
            "\n",
            "\n",
            "Введите команду q\n"
          ]
        }
      ]
    }
  ]
}