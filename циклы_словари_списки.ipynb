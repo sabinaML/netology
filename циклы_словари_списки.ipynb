{
  "nbformat": 4,
  "nbformat_minor": 0,
  "metadata": {
    "colab": {
      "provenance": [],
      "authorship_tag": "ABX9TyOOYsONAO8uhKnx4Gpd9SZF",
      "include_colab_link": true
    },
    "kernelspec": {
      "name": "python3",
      "display_name": "Python 3"
    },
    "language_info": {
      "name": "python"
    }
  },
  "cells": [
    {
      "cell_type": "markdown",
      "metadata": {
        "id": "view-in-github",
        "colab_type": "text"
      },
      "source": [
        "<a href=\"https://colab.research.google.com/github/sabinaML/netology/blob/main/%D1%86%D0%B8%D0%BA%D0%BB%D1%8B_%D1%81%D0%BB%D0%BE%D0%B2%D0%B0%D1%80%D0%B8_%D1%81%D0%BF%D0%B8%D1%81%D0%BA%D0%B8.ipynb\" target=\"_parent\"><img src=\"https://colab.research.google.com/assets/colab-badge.svg\" alt=\"Open In Colab\"/></a>"
      ]
    },
    {
      "cell_type": "markdown",
      "source": [
        "Задание 1\n",
        "Дана переменная, в которой хранится словарь, содержащий гео-метки для каждого пользователя (пример структуры данных приведен ниже). Вам необходимо написать программу, которая выведет на экран множество уникальных гео-меток всех пользователей.\n",
        "\n",
        "Пример работы программы:\n",
        "\n",
        "ids = {‘user1’: [213, 213, 213, 15, 213],\n",
        "‘user2’: [54, 54, 119, 119, 119],\n",
        "‘user3’: [213, 98, 98, 35]}\n",
        "Результат: {98, 35, 15, 213, 54, 119}"
      ],
      "metadata": {
        "id": "jWtsLuD1HFK2"
      }
    },
    {
      "cell_type": "code",
      "source": [
        "ids = {'user1': [213, 213, 213, 15, 213], 'user2': [54, 54, 119, 119, 119], 'user3': [213, 98, 98, 35]}"
      ],
      "metadata": {
        "id": "n0afQg8gHbM2"
      },
      "execution_count": null,
      "outputs": []
    },
    {
      "cell_type": "code",
      "source": [
        "print(set(sum(ids.values(), [])))"
      ],
      "metadata": {
        "colab": {
          "base_uri": "https://localhost:8080/"
        },
        "id": "7ctK5OLxn7Jc",
        "outputId": "30d21873-16ff-4809-b1d3-ac8bec372ecf"
      },
      "execution_count": null,
      "outputs": [
        {
          "output_type": "stream",
          "name": "stdout",
          "text": [
            "{98, 35, 15, 213, 54, 119}\n"
          ]
        }
      ]
    },
    {
      "cell_type": "code",
      "source": [
        "#второе решение\n",
        "set([j for i in ids.values() for j in i])"
      ],
      "metadata": {
        "colab": {
          "base_uri": "https://localhost:8080/"
        },
        "id": "wTBmuGU3HGu8",
        "outputId": "7bd499a8-49bd-470c-d115-a684a0cda24b"
      },
      "execution_count": null,
      "outputs": [
        {
          "output_type": "execute_result",
          "data": {
            "text/plain": [
              "{15, 35, 54, 98, 119, 213}"
            ]
          },
          "metadata": {},
          "execution_count": 3
        }
      ]
    },
    {
      "cell_type": "markdown",
      "source": [
        "Задание 2\n",
        "Дана переменная, в которой хранится список поисковых запросов пользователя (пример структуры данных приведен ниже). Вам необходимо написать программу, которая выведет на экран распределение количества слов в запросах в требуемом виде.\n",
        "\n",
        "Пример работы программы:\n",
        "\n",
        "queries = [\n",
        "‘смотреть сериалы онлайн’,\n",
        "‘новости спорта’,\n",
        "‘афиша кино’,\n",
        "‘курс доллара’,\n",
        "‘сериалы этим летом’,\n",
        "‘курс по питону’,\n",
        "‘сериалы про спорт’\n",
        "]\n",
        "Результат:\n",
        "\n",
        "Поисковых запросов, содержащих 2 слов(а): 42.86%\n",
        "Поисковых запросов, содержащих 3 слов(а): 57.14%"
      ],
      "metadata": {
        "id": "h7-n2klwITzv"
      }
    },
    {
      "cell_type": "code",
      "source": [
        "queries = [ 'смотреть сериалы онлайн', 'новости спорта', 'афиша кино', 'курс доллара', 'сериалы этим летом', 'курс по питону', 'сериалы про спорт' ]"
      ],
      "metadata": {
        "id": "KjYjte02IQC-"
      },
      "execution_count": null,
      "outputs": []
    },
    {
      "cell_type": "code",
      "source": [
        "m=[len(i.split(' ')) for i in queries]\n",
        "for i in set(m):\n",
        "  print(f'Поисковых запросов, содержащих {i} слов(а): {round(m.count(i)*100/len(m),2)} %')"
      ],
      "metadata": {
        "colab": {
          "base_uri": "https://localhost:8080/"
        },
        "id": "zlO2rFH6IVqm",
        "outputId": "78b04d13-9ec7-48e3-e408-61f449060ebb"
      },
      "execution_count": null,
      "outputs": [
        {
          "output_type": "stream",
          "name": "stdout",
          "text": [
            "Поисковых запросов, содержащих 2 слов(а): 42.86 %\n",
            "Поисковых запросов, содержащих 3 слов(а): 57.14 %\n"
          ]
        }
      ]
    },
    {
      "cell_type": "markdown",
      "source": [
        "Задание 3\n",
        "Дана переменная, в которой хранится информация о затратах и доходе рекламных кампаний по различным источникам. Необходимо дополнить исходную структуру показателем ROI, который рассчитаем по формуле: (revenue / cost - 1) * 100\n",
        "\n",
        "Пример работы программы:\n",
        "\n",
        "results = {\n",
        "‘vk’: {‘revenue’: 103, ‘cost’: 98},\n",
        "‘yandex’: {‘revenue’: 179, ‘cost’: 153},\n",
        "‘facebook’: {‘revenue’: 103, ‘cost’: 110},\n",
        "‘adwords’: {‘revenue’: 35, ‘cost’: 34},\n",
        "‘twitter’: {‘revenue’: 11, ‘cost’: 24},\n",
        "}\n",
        "Результат:\n",
        "\n",
        "{‘adwords’: {‘revenue’: 35, ‘cost’: 34, ‘ROI’: 2.94},\n",
        "‘facebook’: {‘revenue’: 103, ‘cost’: 110, ‘ROI’: -6.36},\n",
        "‘twitter’: {‘revenue’: 11, ‘cost’: 24, ‘ROI’: -54.17},\n",
        "‘vk’: {‘revenue’: 103, ‘cost’: 98, ‘ROI’: 5.1},\n",
        "‘yandex’: {‘revenue’: 179, ‘cost’: 153, ‘ROI’: 16.99}}"
      ],
      "metadata": {
        "id": "0tfXwzcnKTiO"
      }
    },
    {
      "cell_type": "code",
      "source": [
        "results = { 'vk': {'revenue': 103, 'cost': 98}, 'yandex': {'revenue': 179, 'cost': 153}, 'facebook': {'revenue': 103, 'cost': 110}, \n",
        "           'adwords': {'revenue': 35, 'cost': 34}, 'twitter': {'revenue': 11, 'cost': 24} }"
      ],
      "metadata": {
        "id": "9MFlrEh5IVwu"
      },
      "execution_count": null,
      "outputs": []
    },
    {
      "cell_type": "code",
      "source": [
        "for j in results.values():\n",
        " j['ROI'] = round((list(j.values())[0]/list(j.values())[1]-1)*100,2)\n",
        "print(results)"
      ],
      "metadata": {
        "colab": {
          "base_uri": "https://localhost:8080/"
        },
        "id": "7YXDEZicKYQe",
        "outputId": "564cea91-1fc1-4a4b-c63d-b92bdbae5d04"
      },
      "execution_count": null,
      "outputs": [
        {
          "output_type": "stream",
          "name": "stdout",
          "text": [
            "{'vk': {'revenue': 103, 'cost': 98, 'ROI': 5.1}, 'yandex': {'revenue': 179, 'cost': 153, 'ROI': 16.99}, 'facebook': {'revenue': 103, 'cost': 110, 'ROI': -6.36}, 'adwords': {'revenue': 35, 'cost': 34, 'ROI': 2.94}, 'twitter': {'revenue': 11, 'cost': 24, 'ROI': -54.17}}\n"
          ]
        }
      ]
    },
    {
      "cell_type": "markdown",
      "source": [
        "Задание 4\n",
        "Дана переменная, в которой хранится статистика рекламных каналов по объемам продаж (пример структуры данных приведен ниже). Напишите программу, которая возвращает название канала с максимальным объемом продаж.\n",
        "\n",
        "Пример работы программы:\n",
        "\n",
        "stats = {‘facebook’: 55, ‘yandex’: 115, ‘vk’: 120, ‘google’: 99, ‘email’: 42, ‘ok’: 98}\n",
        "\n",
        "Результат: Максимальный объем продаж на рекламном канале: vk"
      ],
      "metadata": {
        "id": "ismDE19NRUNw"
      }
    },
    {
      "cell_type": "code",
      "source": [
        "stats = {'facebook': 55, 'yandex': 115, 'vk': 120, 'google': 99, 'email': 42, 'ok': 98}"
      ],
      "metadata": {
        "id": "hp1_krA2KYTl"
      },
      "execution_count": null,
      "outputs": []
    },
    {
      "cell_type": "code",
      "source": [
        "print('Максимальный объем продаж на рекламном канале: ', max(stats, key=stats.get))"
      ],
      "metadata": {
        "colab": {
          "base_uri": "https://localhost:8080/"
        },
        "id": "UyQ1lpkFoKSE",
        "outputId": "fa8bb41d-4c64-4d77-f7a6-272f541cce13"
      },
      "execution_count": null,
      "outputs": [
        {
          "output_type": "stream",
          "name": "stdout",
          "text": [
            "Максимальный объем продаж на рекламном канале:  vk\n"
          ]
        }
      ]
    },
    {
      "cell_type": "code",
      "source": [
        "print('Максимальный объем продаж на рекламном канале: ', max(stats, key=lambda x: stats[x]))"
      ],
      "metadata": {
        "id": "3o72vdlMoK--",
        "outputId": "ca427e20-b128-4e1d-e7ca-f16caeef101a",
        "colab": {
          "base_uri": "https://localhost:8080/"
        }
      },
      "execution_count": null,
      "outputs": [
        {
          "output_type": "stream",
          "name": "stdout",
          "text": [
            "Максимальный объем продаж на рекламном канале:  vk\n"
          ]
        }
      ]
    },
    {
      "cell_type": "code",
      "source": [
        "for i, j in stats.items():\n",
        "  if j==max(stats.values()):\n",
        "    print('Максимальный объем продаж на рекламном канале: ',i)"
      ],
      "metadata": {
        "colab": {
          "base_uri": "https://localhost:8080/"
        },
        "id": "mtMoYN_MKYV5",
        "outputId": "6289af44-952a-400e-d9d1-36500f82437c"
      },
      "execution_count": null,
      "outputs": [
        {
          "output_type": "stream",
          "name": "stdout",
          "text": [
            "Максимальный объем продаж на рекламном канале:  vk\n"
          ]
        }
      ]
    },
    {
      "cell_type": "markdown",
      "source": [
        "Задание 5 (необязательно)\n",
        "Дан список произвольной длины. Необходимо написать код, который на основе исходного списка составит словарь такого уровня вложенности, какова длина исхондого списка.\n",
        "\n",
        "Примеры работы программы:\n",
        "\n",
        "my_list = [‘2018-01-01’, ‘yandex’, ‘cpc’, 100]\n",
        "Результат: {‘2018-01-01’: {‘yandex’: {‘cpc’: 100}}}\n",
        "\n",
        "my_list = [‘a’, ‘b’, ‘c’, ‘d’, ‘e’, ‘f’]\n",
        "Результат: {‘a’: {‘b’: {‘c’: {‘d’: {‘e’: ‘f’}}}}}\n"
      ],
      "metadata": {
        "id": "UmkNp3J8SkQO"
      }
    },
    {
      "cell_type": "code",
      "source": [
        "my_list = ['2018-01-01', 'yandex', 'cpc', 100, 500, 'a', 'd'] "
      ],
      "metadata": {
        "id": "AIOBkCS0Snbe"
      },
      "execution_count": null,
      "outputs": []
    },
    {
      "cell_type": "code",
      "source": [
        "list={my_list[-2]:my_list[-1]}\n",
        "i=-3\n",
        "while i>=-len(my_list):\n",
        " list={my_list[i]:list}\n",
        " i = i-1\n",
        "print(list)"
      ],
      "metadata": {
        "colab": {
          "base_uri": "https://localhost:8080/"
        },
        "id": "RAI7-JTaS5cU",
        "outputId": "7fb7591a-a987-40ab-97bd-571834a07aae"
      },
      "execution_count": null,
      "outputs": [
        {
          "output_type": "stream",
          "name": "stdout",
          "text": [
            "{'2018-01-01': {'yandex': {'cpc': {100: {500: {'a': 'd'}}}}}}\n"
          ]
        }
      ]
    }
  ]
}