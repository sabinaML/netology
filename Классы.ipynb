{
  "nbformat": 4,
  "nbformat_minor": 0,
  "metadata": {
    "colab": {
      "provenance": [],
      "authorship_tag": "ABX9TyPl3P7Y31T8fCF3i8sLh1oJ",
      "include_colab_link": true
    },
    "kernelspec": {
      "name": "python3",
      "display_name": "Python 3"
    },
    "language_info": {
      "name": "python"
    }
  },
  "cells": [
    {
      "cell_type": "markdown",
      "metadata": {
        "id": "view-in-github",
        "colab_type": "text"
      },
      "source": [
        "<a href=\"https://colab.research.google.com/github/sabinaML/python_basic/blob/main/%D0%9A%D0%BB%D0%B0%D1%81%D1%81%D1%8B.ipynb\" target=\"_parent\"><img src=\"https://colab.research.google.com/assets/colab-badge.svg\" alt=\"Open In Colab\"/></a>"
      ]
    },
    {
      "cell_type": "markdown",
      "source": [
        "**Задание 1**\n",
        "\n",
        "\n",
        "Напишите функцию, которая возвращает название валюты (поле ‘Name’) с максимальным значением курса с помощью сервиса www.cbr-xml-daily.ru...ly_json.js"
      ],
      "metadata": {
        "id": "ebFgfz4iU98E"
      }
    },
    {
      "cell_type": "code",
      "source": [
        "import requests"
      ],
      "metadata": {
        "id": "LEn0nXcjVAKy"
      },
      "execution_count": null,
      "outputs": []
    },
    {
      "cell_type": "code",
      "source": [
        "full_data = requests.get('https://www.cbr-xml-daily.ru/daily_json.js').json()['Valute']"
      ],
      "metadata": {
        "id": "EGbtmmOFVaix"
      },
      "execution_count": null,
      "outputs": []
    },
    {
      "cell_type": "code",
      "source": [
        "full_data"
      ],
      "metadata": {
        "colab": {
          "base_uri": "https://localhost:8080/"
        },
        "id": "m5PBLhAGW9kx",
        "outputId": "86cd0749-1e16-48e4-9023-a944d35be003"
      },
      "execution_count": null,
      "outputs": [
        {
          "output_type": "execute_result",
          "data": {
            "text/plain": [
              "{'AMD': {'CharCode': 'AMD',\n",
              "  'ID': 'R01060',\n",
              "  'Name': 'Армянских драмов',\n",
              "  'Nominal': 100,\n",
              "  'NumCode': '051',\n",
              "  'Previous': 14.2124,\n",
              "  'Value': 14.1184},\n",
              " 'AUD': {'CharCode': 'AUD',\n",
              "  'ID': 'R01010',\n",
              "  'Name': 'Австралийский доллар',\n",
              "  'Nominal': 1,\n",
              "  'NumCode': '036',\n",
              "  'Previous': 39.6322,\n",
              "  'Value': 39.3641},\n",
              " 'AZN': {'CharCode': 'AZN',\n",
              "  'ID': 'R01020A',\n",
              "  'Name': 'Азербайджанский манат',\n",
              "  'Nominal': 1,\n",
              "  'NumCode': '944',\n",
              "  'Previous': 34.4307,\n",
              "  'Value': 34.2687},\n",
              " 'BGN': {'CharCode': 'BGN',\n",
              "  'ID': 'R01100',\n",
              "  'Name': 'Болгарский лев',\n",
              "  'Nominal': 1,\n",
              "  'NumCode': '975',\n",
              "  'Previous': 30.052,\n",
              "  'Value': 29.986},\n",
              " 'BRL': {'CharCode': 'BRL',\n",
              "  'ID': 'R01115',\n",
              "  'Name': 'Бразильский реал',\n",
              "  'Nominal': 1,\n",
              "  'NumCode': '986',\n",
              "  'Previous': 10.8159,\n",
              "  'Value': 10.7903},\n",
              " 'BYN': {'CharCode': 'BYN',\n",
              "  'ID': 'R01090B',\n",
              "  'Name': 'Белорусский рубль',\n",
              "  'Nominal': 1,\n",
              "  'NumCode': '933',\n",
              "  'Previous': 22.4977,\n",
              "  'Value': 22.5531},\n",
              " 'CAD': {'CharCode': 'CAD',\n",
              "  'ID': 'R01350',\n",
              "  'Name': 'Канадский доллар',\n",
              "  'Nominal': 1,\n",
              "  'NumCode': '124',\n",
              "  'Previous': 44.9729,\n",
              "  'Value': 44.8958},\n",
              " 'CHF': {'CharCode': 'CHF',\n",
              "  'ID': 'R01775',\n",
              "  'Name': 'Швейцарский франк',\n",
              "  'Nominal': 1,\n",
              "  'NumCode': '756',\n",
              "  'Previous': 59.8,\n",
              "  'Value': 59.186},\n",
              " 'CNY': {'CharCode': 'CNY',\n",
              "  'ID': 'R01375',\n",
              "  'Name': 'Китайских юаней',\n",
              "  'Nominal': 10,\n",
              "  'NumCode': '156',\n",
              "  'Previous': 87.2451,\n",
              "  'Value': 86.3954},\n",
              " 'CZK': {'CharCode': 'CZK',\n",
              "  'ID': 'R01760',\n",
              "  'Name': 'Чешских крон',\n",
              "  'Nominal': 10,\n",
              "  'NumCode': '203',\n",
              "  'Previous': 23.9141,\n",
              "  'Value': 24.0294},\n",
              " 'DKK': {'CharCode': 'DKK',\n",
              "  'ID': 'R01215',\n",
              "  'Name': 'Датских крон',\n",
              "  'Nominal': 10,\n",
              "  'NumCode': '208',\n",
              "  'Previous': 78.994,\n",
              "  'Value': 78.8095},\n",
              " 'EUR': {'CharCode': 'EUR',\n",
              "  'ID': 'R01239',\n",
              "  'Name': 'Евро',\n",
              "  'Nominal': 1,\n",
              "  'NumCode': '978',\n",
              "  'Previous': 58.9002,\n",
              "  'Value': 58.3432},\n",
              " 'GBP': {'CharCode': 'GBP',\n",
              "  'ID': 'R01035',\n",
              "  'Name': 'Фунт стерлингов Соединенного королевства',\n",
              "  'Nominal': 1,\n",
              "  'NumCode': '826',\n",
              "  'Previous': 69.5831,\n",
              "  'Value': 69.6402},\n",
              " 'HKD': {'CharCode': 'HKD',\n",
              "  'ID': 'R01200',\n",
              "  'Name': 'Гонконгских долларов',\n",
              "  'Nominal': 10,\n",
              "  'NumCode': '344',\n",
              "  'Previous': 74.6965,\n",
              "  'Value': 74.3451},\n",
              " 'HUF': {'CharCode': 'HUF',\n",
              "  'ID': 'R01135',\n",
              "  'Name': 'Венгерских форинтов',\n",
              "  'Nominal': 100,\n",
              "  'NumCode': '348',\n",
              "  'Previous': 14.3139,\n",
              "  'Value': 14.2437},\n",
              " 'INR': {'CharCode': 'INR',\n",
              "  'ID': 'R01270',\n",
              "  'Name': 'Индийских рупий',\n",
              "  'Nominal': 100,\n",
              "  'NumCode': '356',\n",
              "  'Previous': 73.7813,\n",
              "  'Value': 73.7209},\n",
              " 'JPY': {'CharCode': 'JPY',\n",
              "  'ID': 'R01820',\n",
              "  'Name': 'Японских иен',\n",
              "  'Nominal': 100,\n",
              "  'NumCode': '392',\n",
              "  'Previous': 42.6868,\n",
              "  'Value': 42.2151},\n",
              " 'KGS': {'CharCode': 'KGS',\n",
              "  'ID': 'R01370',\n",
              "  'Name': 'Киргизских сомов',\n",
              "  'Nominal': 100,\n",
              "  'NumCode': '417',\n",
              "  'Previous': 72.2874,\n",
              "  'Value': 71.8333},\n",
              " 'KRW': {'CharCode': 'KRW',\n",
              "  'ID': 'R01815',\n",
              "  'Name': 'Вон Республики Корея',\n",
              "  'Nominal': 1000,\n",
              "  'NumCode': '410',\n",
              "  'Previous': 44.7871,\n",
              "  'Value': 44.3997},\n",
              " 'KZT': {'CharCode': 'KZT',\n",
              "  'ID': 'R01335',\n",
              "  'Name': 'Казахстанских тенге',\n",
              "  'Nominal': 100,\n",
              "  'NumCode': '398',\n",
              "  'Previous': 12.3647,\n",
              "  'Value': 12.2411},\n",
              " 'MDL': {'CharCode': 'MDL',\n",
              "  'ID': 'R01500',\n",
              "  'Name': 'Молдавских леев',\n",
              "  'Nominal': 10,\n",
              "  'NumCode': '498',\n",
              "  'Previous': 30.3631,\n",
              "  'Value': 30.1747},\n",
              " 'NOK': {'CharCode': 'NOK',\n",
              "  'ID': 'R01535',\n",
              "  'Name': 'Норвежских крон',\n",
              "  'Nominal': 10,\n",
              "  'NumCode': '578',\n",
              "  'Previous': 57.5199,\n",
              "  'Value': 56.8792},\n",
              " 'PLN': {'CharCode': 'PLN',\n",
              "  'ID': 'R01565',\n",
              "  'Name': 'Польский злотый',\n",
              "  'Nominal': 1,\n",
              "  'NumCode': '985',\n",
              "  'Previous': 12.2148,\n",
              "  'Value': 12.1073},\n",
              " 'RON': {'CharCode': 'RON',\n",
              "  'ID': 'R01585F',\n",
              "  'Name': 'Румынский лей',\n",
              "  'Nominal': 1,\n",
              "  'NumCode': '946',\n",
              "  'Previous': 11.8915,\n",
              "  'Value': 11.8286},\n",
              " 'SEK': {'CharCode': 'SEK',\n",
              "  'ID': 'R01770',\n",
              "  'Name': 'Шведских крон',\n",
              "  'Nominal': 10,\n",
              "  'NumCode': '752',\n",
              "  'Previous': 55.1795,\n",
              "  'Value': 55.0091},\n",
              " 'SGD': {'CharCode': 'SGD',\n",
              "  'ID': 'R01625',\n",
              "  'Name': 'Сингапурский доллар',\n",
              "  'Nominal': 1,\n",
              "  'NumCode': '702',\n",
              "  'Previous': 41.6244,\n",
              "  'Value': 41.7432},\n",
              " 'TJS': {'CharCode': 'TJS',\n",
              "  'ID': 'R01670',\n",
              "  'Name': 'Таджикских сомони',\n",
              "  'Nominal': 10,\n",
              "  'NumCode': '972',\n",
              "  'Previous': 55.7992,\n",
              "  'Value': 55.5424},\n",
              " 'TMT': {'CharCode': 'TMT',\n",
              "  'ID': 'R01710A',\n",
              "  'Name': 'Новый туркменский манат',\n",
              "  'Nominal': 1,\n",
              "  'NumCode': '934',\n",
              "  'Previous': 16.7235,\n",
              "  'Value': 16.6448},\n",
              " 'TRY': {'CharCode': 'TRY',\n",
              "  'ID': 'R01700J',\n",
              "  'Name': 'Турецких лир',\n",
              "  'Nominal': 10,\n",
              "  'NumCode': '949',\n",
              "  'Previous': 33.8812,\n",
              "  'Value': 33.4675},\n",
              " 'UAH': {'CharCode': 'UAH',\n",
              "  'ID': 'R01720',\n",
              "  'Name': 'Украинских гривен',\n",
              "  'Nominal': 10,\n",
              "  'NumCode': '980',\n",
              "  'Previous': 19.8089,\n",
              "  'Value': 19.7724},\n",
              " 'USD': {'CharCode': 'USD',\n",
              "  'ID': 'R01235',\n",
              "  'Name': 'Доллар США',\n",
              "  'Nominal': 1,\n",
              "  'NumCode': '840',\n",
              "  'Previous': 58.5322,\n",
              "  'Value': 58.2568},\n",
              " 'UZS': {'CharCode': 'UZS',\n",
              "  'ID': 'R01717',\n",
              "  'Name': 'Узбекских сумов',\n",
              "  'Nominal': 10000,\n",
              "  'NumCode': '860',\n",
              "  'Previous': 53.5995,\n",
              "  'Value': 53.2746},\n",
              " 'XDR': {'CharCode': 'XDR',\n",
              "  'ID': 'R01589',\n",
              "  'Name': 'СДР (специальные права заимствования)',\n",
              "  'Nominal': 1,\n",
              "  'NumCode': '960',\n",
              "  'Previous': 76.6614,\n",
              "  'Value': 76.4318},\n",
              " 'ZAR': {'CharCode': 'ZAR',\n",
              "  'ID': 'R01810',\n",
              "  'Name': 'Южноафриканских рэндов',\n",
              "  'Nominal': 10,\n",
              "  'NumCode': '710',\n",
              "  'Previous': 34.407,\n",
              "  'Value': 34.1935}}"
            ]
          },
          "metadata": {},
          "execution_count": 3
        }
      ]
    },
    {
      "cell_type": "code",
      "source": [
        "class Rate():\n",
        "  def max_valute(self):\n",
        "    self.p={}\n",
        "    for key,value in full_data.items():\n",
        "      self.p[value['Name']]=value['Value']\n",
        "      #return self.p[value['Name']],value['Value']\n",
        "    return max(self.p, key=self.p.get), self.p[max(self.p, key=self.p.get)]\n",
        "\n"
      ],
      "metadata": {
        "id": "4_WuWa1SV3eh"
      },
      "execution_count": null,
      "outputs": []
    },
    {
      "cell_type": "code",
      "source": [
        "r=Rate()"
      ],
      "metadata": {
        "id": "PZRZfaaEqXxK"
      },
      "execution_count": null,
      "outputs": []
    },
    {
      "cell_type": "code",
      "source": [
        "r.max_valute()"
      ],
      "metadata": {
        "colab": {
          "base_uri": "https://localhost:8080/"
        },
        "id": "ddrUnECdqdjQ",
        "outputId": "062bbe2c-322c-4a0c-dcc7-b12b99c391b6"
      },
      "execution_count": null,
      "outputs": [
        {
          "output_type": "execute_result",
          "data": {
            "text/plain": [
              "('Китайских юаней', 86.3954)"
            ]
          },
          "metadata": {},
          "execution_count": 13
        }
      ]
    },
    {
      "cell_type": "code",
      "source": [],
      "metadata": {
        "id": "_Eacs5IjqXHL"
      },
      "execution_count": null,
      "outputs": []
    },
    {
      "cell_type": "markdown",
      "source": [
        "**Задание 2**\n",
        "\n",
        "> \n",
        "\n",
        "\n",
        "Добавьте в класс Rate параметр diff (со значениями True или False), который в случае значения True в методах курсов валют (eur, usd итд) будет возвращать не курс валюты, а изменение по сравнению в прошлым значением. Считайте, self.diff будет принимать значение True только при возврате значения курса. При отображении всей информации о валюте он не используется."
      ],
      "metadata": {
        "id": "bPVhq18Ob8OE"
      }
    },
    {
      "cell_type": "code",
      "source": [
        "class Rate():\n",
        "  def __init__(self, format_='value', diff_= True):\n",
        "    self.format=format_\n",
        "    self.diff=diff_\n",
        "  def exchange_rates(self):\n",
        "    self.response = requests.get('https://www.cbr-xml-daily.ru/daily_json.js').json()['Valute']\n",
        "    return self.response\n",
        "  def make_format(self, currency):\n",
        "    if currency in self.response:\n",
        "      if self.format=='full':\n",
        "        return self.response[currency]\n",
        "      if self.format=='value':\n",
        "        if self.diff==True:\n",
        "          return (self.response[currency]['Value']-self.response[currency]['Previous'])\n",
        "        if self.diff==False:\n",
        "          return self.response[currency]['Value']   \n"
      ],
      "metadata": {
        "id": "e4BB0w7mb-u8"
      },
      "execution_count": null,
      "outputs": []
    },
    {
      "cell_type": "code",
      "source": [
        "r=Rate(format_='value', diff_= True)"
      ],
      "metadata": {
        "id": "pBT_NatZyKql"
      },
      "execution_count": null,
      "outputs": []
    },
    {
      "cell_type": "code",
      "source": [
        "r.exchange_rates()"
      ],
      "metadata": {
        "colab": {
          "base_uri": "https://localhost:8080/"
        },
        "id": "rnU0Y4UI0-ui",
        "outputId": "2ac6ccc9-2528-48ca-8f13-eed192fbdc77"
      },
      "execution_count": null,
      "outputs": [
        {
          "output_type": "execute_result",
          "data": {
            "text/plain": [
              "{'AMD': {'CharCode': 'AMD',\n",
              "  'ID': 'R01060',\n",
              "  'Name': 'Армянских драмов',\n",
              "  'Nominal': 100,\n",
              "  'NumCode': '051',\n",
              "  'Previous': 14.2124,\n",
              "  'Value': 14.1184},\n",
              " 'AUD': {'CharCode': 'AUD',\n",
              "  'ID': 'R01010',\n",
              "  'Name': 'Австралийский доллар',\n",
              "  'Nominal': 1,\n",
              "  'NumCode': '036',\n",
              "  'Previous': 39.6322,\n",
              "  'Value': 39.3641},\n",
              " 'AZN': {'CharCode': 'AZN',\n",
              "  'ID': 'R01020A',\n",
              "  'Name': 'Азербайджанский манат',\n",
              "  'Nominal': 1,\n",
              "  'NumCode': '944',\n",
              "  'Previous': 34.4307,\n",
              "  'Value': 34.2687},\n",
              " 'BGN': {'CharCode': 'BGN',\n",
              "  'ID': 'R01100',\n",
              "  'Name': 'Болгарский лев',\n",
              "  'Nominal': 1,\n",
              "  'NumCode': '975',\n",
              "  'Previous': 30.052,\n",
              "  'Value': 29.986},\n",
              " 'BRL': {'CharCode': 'BRL',\n",
              "  'ID': 'R01115',\n",
              "  'Name': 'Бразильский реал',\n",
              "  'Nominal': 1,\n",
              "  'NumCode': '986',\n",
              "  'Previous': 10.8159,\n",
              "  'Value': 10.7903},\n",
              " 'BYN': {'CharCode': 'BYN',\n",
              "  'ID': 'R01090B',\n",
              "  'Name': 'Белорусский рубль',\n",
              "  'Nominal': 1,\n",
              "  'NumCode': '933',\n",
              "  'Previous': 22.4977,\n",
              "  'Value': 22.5531},\n",
              " 'CAD': {'CharCode': 'CAD',\n",
              "  'ID': 'R01350',\n",
              "  'Name': 'Канадский доллар',\n",
              "  'Nominal': 1,\n",
              "  'NumCode': '124',\n",
              "  'Previous': 44.9729,\n",
              "  'Value': 44.8958},\n",
              " 'CHF': {'CharCode': 'CHF',\n",
              "  'ID': 'R01775',\n",
              "  'Name': 'Швейцарский франк',\n",
              "  'Nominal': 1,\n",
              "  'NumCode': '756',\n",
              "  'Previous': 59.8,\n",
              "  'Value': 59.186},\n",
              " 'CNY': {'CharCode': 'CNY',\n",
              "  'ID': 'R01375',\n",
              "  'Name': 'Китайских юаней',\n",
              "  'Nominal': 10,\n",
              "  'NumCode': '156',\n",
              "  'Previous': 87.2451,\n",
              "  'Value': 86.3954},\n",
              " 'CZK': {'CharCode': 'CZK',\n",
              "  'ID': 'R01760',\n",
              "  'Name': 'Чешских крон',\n",
              "  'Nominal': 10,\n",
              "  'NumCode': '203',\n",
              "  'Previous': 23.9141,\n",
              "  'Value': 24.0294},\n",
              " 'DKK': {'CharCode': 'DKK',\n",
              "  'ID': 'R01215',\n",
              "  'Name': 'Датских крон',\n",
              "  'Nominal': 10,\n",
              "  'NumCode': '208',\n",
              "  'Previous': 78.994,\n",
              "  'Value': 78.8095},\n",
              " 'EUR': {'CharCode': 'EUR',\n",
              "  'ID': 'R01239',\n",
              "  'Name': 'Евро',\n",
              "  'Nominal': 1,\n",
              "  'NumCode': '978',\n",
              "  'Previous': 58.9002,\n",
              "  'Value': 58.3432},\n",
              " 'GBP': {'CharCode': 'GBP',\n",
              "  'ID': 'R01035',\n",
              "  'Name': 'Фунт стерлингов Соединенного королевства',\n",
              "  'Nominal': 1,\n",
              "  'NumCode': '826',\n",
              "  'Previous': 69.5831,\n",
              "  'Value': 69.6402},\n",
              " 'HKD': {'CharCode': 'HKD',\n",
              "  'ID': 'R01200',\n",
              "  'Name': 'Гонконгских долларов',\n",
              "  'Nominal': 10,\n",
              "  'NumCode': '344',\n",
              "  'Previous': 74.6965,\n",
              "  'Value': 74.3451},\n",
              " 'HUF': {'CharCode': 'HUF',\n",
              "  'ID': 'R01135',\n",
              "  'Name': 'Венгерских форинтов',\n",
              "  'Nominal': 100,\n",
              "  'NumCode': '348',\n",
              "  'Previous': 14.3139,\n",
              "  'Value': 14.2437},\n",
              " 'INR': {'CharCode': 'INR',\n",
              "  'ID': 'R01270',\n",
              "  'Name': 'Индийских рупий',\n",
              "  'Nominal': 100,\n",
              "  'NumCode': '356',\n",
              "  'Previous': 73.7813,\n",
              "  'Value': 73.7209},\n",
              " 'JPY': {'CharCode': 'JPY',\n",
              "  'ID': 'R01820',\n",
              "  'Name': 'Японских иен',\n",
              "  'Nominal': 100,\n",
              "  'NumCode': '392',\n",
              "  'Previous': 42.6868,\n",
              "  'Value': 42.2151},\n",
              " 'KGS': {'CharCode': 'KGS',\n",
              "  'ID': 'R01370',\n",
              "  'Name': 'Киргизских сомов',\n",
              "  'Nominal': 100,\n",
              "  'NumCode': '417',\n",
              "  'Previous': 72.2874,\n",
              "  'Value': 71.8333},\n",
              " 'KRW': {'CharCode': 'KRW',\n",
              "  'ID': 'R01815',\n",
              "  'Name': 'Вон Республики Корея',\n",
              "  'Nominal': 1000,\n",
              "  'NumCode': '410',\n",
              "  'Previous': 44.7871,\n",
              "  'Value': 44.3997},\n",
              " 'KZT': {'CharCode': 'KZT',\n",
              "  'ID': 'R01335',\n",
              "  'Name': 'Казахстанских тенге',\n",
              "  'Nominal': 100,\n",
              "  'NumCode': '398',\n",
              "  'Previous': 12.3647,\n",
              "  'Value': 12.2411},\n",
              " 'MDL': {'CharCode': 'MDL',\n",
              "  'ID': 'R01500',\n",
              "  'Name': 'Молдавских леев',\n",
              "  'Nominal': 10,\n",
              "  'NumCode': '498',\n",
              "  'Previous': 30.3631,\n",
              "  'Value': 30.1747},\n",
              " 'NOK': {'CharCode': 'NOK',\n",
              "  'ID': 'R01535',\n",
              "  'Name': 'Норвежских крон',\n",
              "  'Nominal': 10,\n",
              "  'NumCode': '578',\n",
              "  'Previous': 57.5199,\n",
              "  'Value': 56.8792},\n",
              " 'PLN': {'CharCode': 'PLN',\n",
              "  'ID': 'R01565',\n",
              "  'Name': 'Польский злотый',\n",
              "  'Nominal': 1,\n",
              "  'NumCode': '985',\n",
              "  'Previous': 12.2148,\n",
              "  'Value': 12.1073},\n",
              " 'RON': {'CharCode': 'RON',\n",
              "  'ID': 'R01585F',\n",
              "  'Name': 'Румынский лей',\n",
              "  'Nominal': 1,\n",
              "  'NumCode': '946',\n",
              "  'Previous': 11.8915,\n",
              "  'Value': 11.8286},\n",
              " 'SEK': {'CharCode': 'SEK',\n",
              "  'ID': 'R01770',\n",
              "  'Name': 'Шведских крон',\n",
              "  'Nominal': 10,\n",
              "  'NumCode': '752',\n",
              "  'Previous': 55.1795,\n",
              "  'Value': 55.0091},\n",
              " 'SGD': {'CharCode': 'SGD',\n",
              "  'ID': 'R01625',\n",
              "  'Name': 'Сингапурский доллар',\n",
              "  'Nominal': 1,\n",
              "  'NumCode': '702',\n",
              "  'Previous': 41.6244,\n",
              "  'Value': 41.7432},\n",
              " 'TJS': {'CharCode': 'TJS',\n",
              "  'ID': 'R01670',\n",
              "  'Name': 'Таджикских сомони',\n",
              "  'Nominal': 10,\n",
              "  'NumCode': '972',\n",
              "  'Previous': 55.7992,\n",
              "  'Value': 55.5424},\n",
              " 'TMT': {'CharCode': 'TMT',\n",
              "  'ID': 'R01710A',\n",
              "  'Name': 'Новый туркменский манат',\n",
              "  'Nominal': 1,\n",
              "  'NumCode': '934',\n",
              "  'Previous': 16.7235,\n",
              "  'Value': 16.6448},\n",
              " 'TRY': {'CharCode': 'TRY',\n",
              "  'ID': 'R01700J',\n",
              "  'Name': 'Турецких лир',\n",
              "  'Nominal': 10,\n",
              "  'NumCode': '949',\n",
              "  'Previous': 33.8812,\n",
              "  'Value': 33.4675},\n",
              " 'UAH': {'CharCode': 'UAH',\n",
              "  'ID': 'R01720',\n",
              "  'Name': 'Украинских гривен',\n",
              "  'Nominal': 10,\n",
              "  'NumCode': '980',\n",
              "  'Previous': 19.8089,\n",
              "  'Value': 19.7724},\n",
              " 'USD': {'CharCode': 'USD',\n",
              "  'ID': 'R01235',\n",
              "  'Name': 'Доллар США',\n",
              "  'Nominal': 1,\n",
              "  'NumCode': '840',\n",
              "  'Previous': 58.5322,\n",
              "  'Value': 58.2568},\n",
              " 'UZS': {'CharCode': 'UZS',\n",
              "  'ID': 'R01717',\n",
              "  'Name': 'Узбекских сумов',\n",
              "  'Nominal': 10000,\n",
              "  'NumCode': '860',\n",
              "  'Previous': 53.5995,\n",
              "  'Value': 53.2746},\n",
              " 'XDR': {'CharCode': 'XDR',\n",
              "  'ID': 'R01589',\n",
              "  'Name': 'СДР (специальные права заимствования)',\n",
              "  'Nominal': 1,\n",
              "  'NumCode': '960',\n",
              "  'Previous': 76.6614,\n",
              "  'Value': 76.4318},\n",
              " 'ZAR': {'CharCode': 'ZAR',\n",
              "  'ID': 'R01810',\n",
              "  'Name': 'Южноафриканских рэндов',\n",
              "  'Nominal': 10,\n",
              "  'NumCode': '710',\n",
              "  'Previous': 34.407,\n",
              "  'Value': 34.1935}}"
            ]
          },
          "metadata": {},
          "execution_count": 58
        }
      ]
    },
    {
      "cell_type": "code",
      "source": [
        "r.make_format('USD')"
      ],
      "metadata": {
        "colab": {
          "base_uri": "https://localhost:8080/"
        },
        "id": "TUDyw8cXyRz9",
        "outputId": "973af914-9e9e-4a20-a5a9-238d3070eb41"
      },
      "execution_count": null,
      "outputs": [
        {
          "output_type": "execute_result",
          "data": {
            "text/plain": [
              "-0.27540000000000475"
            ]
          },
          "metadata": {},
          "execution_count": 59
        }
      ]
    },
    {
      "cell_type": "markdown",
      "source": [
        "**Задание 3**\n",
        "\n",
        ">\n",
        "\n",
        "\n",
        "Напишите класс Designer, который учитывает количество международных премий. Подсказки в коде занятия в разделе “Домашнее задание задача 3”."
      ],
      "metadata": {
        "id": "_oiYWPBl1MxY"
      }
    },
    {
      "cell_type": "code",
      "source": [
        "class Employee:\n",
        "    def __init__(self, name, seniority):\n",
        "        self.name = name\n",
        "        self.seniority = seniority\n",
        "        \n",
        "        self.grade = 1\n",
        "    \n",
        "    def grade_up(self):\n",
        "        \"\"\"Повышает уровень сотрудника\"\"\"\n",
        "        self.grade += 1\n",
        "    \n",
        "    def publish_grade(self):\n",
        "        \"\"\"Публикация результатов аккредитации сотрудников\"\"\"\n",
        "        print(self.name, self.grade)\n",
        "    \n",
        "    def check_if_it_is_time_for_upgrade(self):\n",
        "        pass"
      ],
      "metadata": {
        "id": "fTt8KKd71QSw"
      },
      "execution_count": null,
      "outputs": []
    },
    {
      "cell_type": "code",
      "source": [
        "# добавляем атрибут premy_ - количество премий, которые у него есть\n",
        "class Designer(Employee):\n",
        "    def __init__(self, name, seniority, premy_=2):\n",
        "        super().__init__(name, seniority)\n",
        "        self.premy=premy_\n",
        "    def check_if_it_is_time_for_upgrade(self):\n",
        "        # для каждой аккредитации увеличиваем счетчик на 1\n",
        "        # пока считаем, что все разработчики проходят аккредитацию\n",
        "        self.seniority += 1\n",
        "        \n",
        "        # условие повышения грейда - за каждую премию даем 2 балла + аккредитации\n",
        "        if (self.seniority+self.premy*2) % 7 == 0:\n",
        "            self.grade_up()\n",
        "        \n",
        "        # публикация результатов\n",
        "        return self.publish_grade()"
      ],
      "metadata": {
        "id": "lRYIOsrk4sSE"
      },
      "execution_count": null,
      "outputs": []
    },
    {
      "cell_type": "code",
      "source": [
        "# проверяем как работает система повышения сотрудников на примере отдела разработки\n",
        "\n",
        "# дизайнер Александр только что пришел в компанию и у него 2 премии (по умолчанию)\n",
        "alex = Designer('Александр', 0)"
      ],
      "metadata": {
        "id": "Ug5dhcen46J3"
      },
      "execution_count": null,
      "outputs": []
    },
    {
      "cell_type": "code",
      "source": [
        "for i in range(20):\n",
        "    alex.check_if_it_is_time_for_upgrade()"
      ],
      "metadata": {
        "colab": {
          "base_uri": "https://localhost:8080/"
        },
        "id": "G_1g9_CB48fW",
        "outputId": "8dea4ade-6155-46ec-f3cb-1752b747345d"
      },
      "execution_count": null,
      "outputs": [
        {
          "output_type": "stream",
          "name": "stdout",
          "text": [
            "Александр 1\n",
            "Александр 1\n",
            "Александр 2\n",
            "Александр 2\n",
            "Александр 2\n",
            "Александр 2\n",
            "Александр 2\n",
            "Александр 2\n",
            "Александр 2\n",
            "Александр 3\n",
            "Александр 3\n",
            "Александр 3\n",
            "Александр 3\n",
            "Александр 3\n",
            "Александр 3\n",
            "Александр 3\n",
            "Александр 4\n",
            "Александр 4\n",
            "Александр 4\n",
            "Александр 4\n"
          ]
        }
      ]
    }
  ]
}